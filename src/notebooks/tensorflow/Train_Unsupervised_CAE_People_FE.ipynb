{
 "cells": [
  {
   "cell_type": "markdown",
   "metadata": {},
   "source": [
    "## Train CAE on people Dataset\n",
    "#### References\n",
    "* https://jmetzen.github.io/2015-11-27/vae.html\n",
    "* http://int8.io/variational-autoencoder-in-tensorflow/\n",
    "* https://github.com/int8/VAE_tensorflow\n",
    "* https://github.com/dagcilibili/variational-autoencoder/blob/master/vae.py\n",
    "* https://arxiv.org/pdf/1312.6114.pdf\n",
    "* https://www.tensorflow.org/api_docs/python/tf/clip_by_value\n",
    "* https://arxiv.org/pdf/1609.04468.pdf\n",
    "* http://int8.io/variational-autoencoder-in-tensorflow/\n",
    "* http://blog.fastforwardlabs.com/2016/08/12/introducing-variational-autoencoders-in-prose-and.html\n",
    "* http://blog.fastforwardlabs.com/2016/08/22/under-the-hood-of-the-variational-autoencoder-in.html\n",
    "* http://kvfrans.com/variational-autoencoders-explained/\n",
    "* http://torch.ch/blog/2015/11/13/gan.html\n",
    "* https://www.slideshare.net/ShaiHarel/variational-autoencoder-talk"
   ]
  },
  {
   "cell_type": "code",
   "execution_count": 1,
   "metadata": {
    "collapsed": false
   },
   "outputs": [],
   "source": [
    "import tensorflow as tf\n",
    "import models\n",
    "import model_util as util\n",
    "import os\n",
    "from handle_data import HandleData\n",
    "\n",
    "# Regularization value\n",
    "start_lr = 0.0000001\n",
    "batch_size=500\n",
    "epochs = 600\n",
    "input_train_lmdb = '/home/leoara01/work/PPSS_LMDB_Train'\n",
    "logs_path = './logs'\n",
    "save_dir = './save'\n",
    "gpu_fraction = 0.4\n",
    "LATENT_SIZE=100\n",
    "DECAY_CONTROL = 10000\n",
    "os.environ[\"CUDA_VISIBLE_DEVICES\"] = str(0)\n",
    "\n",
    "# Delete logs directory if exist\n",
    "if os.path.exists(logs_path):    \n",
    "    os.system(\"rm -rf \" + logs_path)\n",
    "\n",
    "# Delete save directory if exist\n",
    "if os.path.exists(save_dir):    \n",
    "    os.system(\"rm -rf \" + save_dir)\n",
    "    "
   ]
  },
  {
   "cell_type": "markdown",
   "metadata": {},
   "source": [
    "### Define a Model"
   ]
  },
  {
   "cell_type": "code",
   "execution_count": 2,
   "metadata": {
    "collapsed": false
   },
   "outputs": [
    {
     "name": "stdout",
     "output_type": "stream",
     "text": [
      "Number of parameters: 126249\n"
     ]
    }
   ],
   "source": [
    "# Build model\n",
    "vae_model = models.CAE_AutoEncoderFE()\n",
    "#vae_model = models.CAE_AutoEncoderSegnet()\n",
    "\n",
    "# Get Placeholders\n",
    "model_in = vae_model.input\n",
    "model_out = vae_model.output\n",
    "model_out_flat = vae_model.output_flat\n",
    "model_in_flat = vae_model.input_flat\n",
    "\n",
    "# Get number of parameters\n",
    "print('Number of parameters:', util.get_paremeter_size(tf.trainable_variables()))\n",
    "\n",
    "# Get all model \"parameters\" that are trainable\n",
    "train_vars = tf.trainable_variables()"
   ]
  },
  {
   "cell_type": "markdown",
   "metadata": {},
   "source": [
    "### Define a Variational AutoEncoder Loss"
   ]
  },
  {
   "cell_type": "code",
   "execution_count": 3,
   "metadata": {
    "collapsed": false
   },
   "outputs": [],
   "source": [
    "# Add loss (Should be a generative model here....)\n",
    "with tf.name_scope(\"CAE_LOSS\"):        \n",
    "    #L1 loss\n",
    "    generation_loss = tf.norm(model_in-model_out, ord=2)\n",
    "        \n",
    "    # Merge the losses\n",
    "    loss = tf.reduce_mean(generation_loss)\n",
    "    #loss = tf.reduce_mean(generation_loss)"
   ]
  },
  {
   "cell_type": "markdown",
   "metadata": {},
   "source": [
    "### Define a Solver"
   ]
  },
  {
   "cell_type": "code",
   "execution_count": 4,
   "metadata": {
    "collapsed": false
   },
   "outputs": [],
   "source": [
    "# Get ops to update moving_mean and moving_variance from batch_norm\n",
    "# Reference: https://www.tensorflow.org/api_docs/python/tf/contrib/layers/batch_norm\n",
    "update_ops = tf.get_collection(tf.GraphKeys.UPDATE_OPS)\n",
    "with tf.name_scope(\"Solver\"):\n",
    "    global_step = tf.Variable(0, trainable=False)\n",
    "    starter_learning_rate = start_lr\n",
    "    # decay every 10000 steps with a base of 0.96\n",
    "    learning_rate = tf.train.exponential_decay(starter_learning_rate, global_step,\n",
    "                                               DECAY_CONTROL, 0.1, staircase=True)\n",
    "\n",
    "    # Basically update the batch_norm moving averages before the training step\n",
    "    # http://ruishu.io/2016/12/27/batchnorm/\n",
    "    with tf.control_dependencies(update_ops):\n",
    "        train_step = tf.train.AdamOptimizer(learning_rate).minimize(loss, global_step=global_step)"
   ]
  },
  {
   "cell_type": "markdown",
   "metadata": {},
   "source": [
    "### Build the Graph"
   ]
  },
  {
   "cell_type": "code",
   "execution_count": 5,
   "metadata": {
    "collapsed": false
   },
   "outputs": [],
   "source": [
    "# Avoid allocating the whole memory\n",
    "gpu_options = tf.GPUOptions(per_process_gpu_memory_fraction=gpu_fraction)\n",
    "sess = tf.InteractiveSession(config=tf.ConfigProto(gpu_options=gpu_options))\n",
    "        \n",
    "# Initialize all random variables (Weights/Bias)\n",
    "sess.run(tf.global_variables_initializer())\n",
    "\n",
    "# Just create saver for saving checkpoints\n",
    "saver = tf.train.Saver(max_to_keep=None)"
   ]
  },
  {
   "cell_type": "markdown",
   "metadata": {},
   "source": [
    "### Add some variables to watch on tensorboard"
   ]
  },
  {
   "cell_type": "code",
   "execution_count": 6,
   "metadata": {
    "collapsed": false
   },
   "outputs": [],
   "source": [
    "# Monitor loss, learning_rate, global_step, etc...\n",
    "tf.summary.scalar(\"loss_train\", loss)\n",
    "tf.summary.scalar(\"learning_rate\", learning_rate)\n",
    "tf.summary.scalar(\"global_step\", global_step)\n",
    "\n",
    "# Add input image on summary\n",
    "tf.summary.image(\"input_image\", model_in, 4)\n",
    "tf.summary.image(\"output_image\", model_out, 4)\n",
    "\n",
    "# merge all summaries into a single op\n",
    "merged_summary_op = tf.summary.merge_all()\n",
    "\n",
    "# Configure where to save the logs for tensorboard\n",
    "summary_writer = tf.summary.FileWriter(logs_path, graph=tf.get_default_graph())"
   ]
  },
  {
   "cell_type": "markdown",
   "metadata": {},
   "source": [
    "### Load LMDB Data"
   ]
  },
  {
   "cell_type": "code",
   "execution_count": null,
   "metadata": {
    "collapsed": false
   },
   "outputs": [
    {
     "name": "stdout",
     "output_type": "stream",
     "text": [
      "Loading training data\n",
      "LMDB file\n",
      "Spliting training and validation\n",
      "Number training images: 3168\n",
      "Number validation images: 39\n",
      "Num samples 3961 Iterations per epoch: 7 batch size: 500\n"
     ]
    }
   ],
   "source": [
    "data = HandleData(path=input_train_lmdb, path_val='', val_perc=0.01)\n",
    "num_images_epoch = int(data.get_num_images() / batch_size)\n",
    "print('Num samples', data.get_num_images(), 'Iterations per epoch:', num_images_epoch, 'batch size:',batch_size)"
   ]
  },
  {
   "cell_type": "markdown",
   "metadata": {},
   "source": [
    "### Train Loop"
   ]
  },
  {
   "cell_type": "code",
   "execution_count": null,
   "metadata": {
    "collapsed": false
   },
   "outputs": [
    {
     "name": "stdout",
     "output_type": "stream",
     "text": [
      "INFO:tensorflow:./save/model-0 is not in all_model_checkpoint_paths. Manually adding it.\n",
      "Model saved in file: ./save/model-0\n",
      "Shuffle data\n",
      "INFO:tensorflow:./save/model-1 is not in all_model_checkpoint_paths. Manually adding it.\n",
      "Model saved in file: ./save/model-1\n",
      "Shuffle data\n",
      "INFO:tensorflow:./save/model-2 is not in all_model_checkpoint_paths. Manually adding it.\n",
      "Model saved in file: ./save/model-2\n",
      "Shuffle data\n",
      "INFO:tensorflow:./save/model-3 is not in all_model_checkpoint_paths. Manually adding it.\n",
      "Model saved in file: ./save/model-3\n",
      "Shuffle data\n",
      "INFO:tensorflow:./save/model-4 is not in all_model_checkpoint_paths. Manually adding it.\n",
      "Model saved in file: ./save/model-4\n",
      "Shuffle data\n",
      "INFO:tensorflow:./save/model-5 is not in all_model_checkpoint_paths. Manually adding it.\n",
      "Model saved in file: ./save/model-5\n",
      "Shuffle data\n",
      "INFO:tensorflow:./save/model-6 is not in all_model_checkpoint_paths. Manually adding it.\n",
      "Model saved in file: ./save/model-6\n",
      "Shuffle data\n",
      "INFO:tensorflow:./save/model-7 is not in all_model_checkpoint_paths. Manually adding it.\n",
      "Model saved in file: ./save/model-7\n",
      "Shuffle data\n",
      "INFO:tensorflow:./save/model-8 is not in all_model_checkpoint_paths. Manually adding it.\n",
      "Model saved in file: ./save/model-8\n",
      "Shuffle data\n",
      "INFO:tensorflow:./save/model-9 is not in all_model_checkpoint_paths. Manually adding it.\n",
      "Model saved in file: ./save/model-9\n",
      "Shuffle data\n",
      "INFO:tensorflow:./save/model-10 is not in all_model_checkpoint_paths. Manually adding it.\n",
      "Model saved in file: ./save/model-10\n",
      "Shuffle data\n",
      "INFO:tensorflow:./save/model-11 is not in all_model_checkpoint_paths. Manually adding it.\n",
      "Model saved in file: ./save/model-11\n",
      "Shuffle data\n",
      "INFO:tensorflow:./save/model-12 is not in all_model_checkpoint_paths. Manually adding it.\n",
      "Model saved in file: ./save/model-12\n",
      "Shuffle data\n",
      "INFO:tensorflow:./save/model-13 is not in all_model_checkpoint_paths. Manually adding it.\n",
      "Model saved in file: ./save/model-13\n",
      "Shuffle data\n",
      "INFO:tensorflow:./save/model-14 is not in all_model_checkpoint_paths. Manually adding it.\n",
      "Model saved in file: ./save/model-14\n",
      "Shuffle data\n",
      "INFO:tensorflow:./save/model-15 is not in all_model_checkpoint_paths. Manually adding it.\n",
      "Model saved in file: ./save/model-15\n",
      "Shuffle data\n",
      "INFO:tensorflow:./save/model-16 is not in all_model_checkpoint_paths. Manually adding it.\n",
      "Model saved in file: ./save/model-16\n",
      "Shuffle data\n",
      "INFO:tensorflow:./save/model-17 is not in all_model_checkpoint_paths. Manually adding it.\n",
      "Model saved in file: ./save/model-17\n",
      "Shuffle data\n",
      "INFO:tensorflow:./save/model-18 is not in all_model_checkpoint_paths. Manually adding it.\n",
      "Model saved in file: ./save/model-18\n",
      "Shuffle data\n",
      "INFO:tensorflow:./save/model-19 is not in all_model_checkpoint_paths. Manually adding it.\n",
      "Model saved in file: ./save/model-19\n",
      "Shuffle data\n"
     ]
    }
   ],
   "source": [
    "# For each epoch\n",
    "for epoch in range(epochs):\n",
    "    for i in range(int(data.get_num_images() / batch_size)):\n",
    "        # Get training batch\n",
    "        xs_train, ys_train = data.LoadTrainBatch(batch_size, should_augment=False, do_resize=True)\n",
    "\n",
    "        # Send training batch to tensorflow graph (Dropout enabled)\n",
    "        train_step.run(feed_dict={model_in: xs_train})\n",
    "\n",
    "        # write logs at every iteration\n",
    "        summary = merged_summary_op.eval(feed_dict={model_in: xs_train})\n",
    "        summary_writer.add_summary(summary, epoch * batch_size + i)\n",
    "\n",
    "    # Save checkpoint after each epoch\n",
    "    if not os.path.exists(save_dir):\n",
    "        os.makedirs(save_dir)\n",
    "    checkpoint_path = os.path.join(save_dir, \"model\")\n",
    "    filename = saver.save(sess, checkpoint_path, global_step=epoch)\n",
    "    print(\"Model saved in file: %s\" % filename)\n",
    "\n",
    "    # Shuffle data at each epoch end\n",
    "    print(\"Shuffle data\")\n",
    "    data.shuffleData()"
   ]
  }
 ],
 "metadata": {
  "kernelspec": {
   "display_name": "Python 3",
   "language": "python",
   "name": "python3"
  },
  "language_info": {
   "codemirror_mode": {
    "name": "ipython",
    "version": 3
   },
   "file_extension": ".py",
   "mimetype": "text/x-python",
   "name": "python",
   "nbconvert_exporter": "python",
   "pygments_lexer": "ipython3",
   "version": "3.6.0"
  }
 },
 "nbformat": 4,
 "nbformat_minor": 2
}
