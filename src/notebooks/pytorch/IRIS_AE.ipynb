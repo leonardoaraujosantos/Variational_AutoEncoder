{
 "cells": [
  {
   "cell_type": "markdown",
   "metadata": {},
   "source": [
    "# Iris AutoEncoder with Pytorch\n",
    "On this tutorial we will create a simple AutoEncoder in Pytorch with the Iris Dataset.\n",
    "\n",
    "#### References\n",
    "* [Iris Dataset](https://en.wikipedia.org/wiki/Iris_flower_data_set)\n",
    "* [Feature Importance](https://chrisalbon.com/machine_learning/trees_and_forests/feature_importance/)\n",
    "* [Autoencoders for feature selection](https://arxiv.org/pdf/1710.08310.pdf)\n",
    "* [Concrete Autoencoders for Differentiable Feature Selection and Reconstruction](https://arxiv.org/pdf/1901.09346.pdf)\n",
    "* https://github.com/mfbalin/Concrete-Autoencoders\n",
    "* https://towardsdatascience.com/pca-vs-autoencoders-1ba08362f450"
   ]
  },
  {
   "cell_type": "code",
   "execution_count": 1,
   "metadata": {},
   "outputs": [
    {
     "name": "stdout",
     "output_type": "stream",
     "text": [
      "Classes: ['Iris-setosa' 'Iris-versicolor' 'Iris-virginica']\n",
      "num_features: 4\n"
     ]
    }
   ],
   "source": [
    "import numpy as np\n",
    "import matplotlib.pyplot as plt\n",
    "import pandas as pd\n",
    "from sklearn.model_selection import train_test_split\n",
    "\n",
    "import torch\n",
    "import torch.nn as nn\n",
    "import torch.nn.functional as F\n",
    "\n",
    "# load IRIS dataset\n",
    "dataset = pd.read_csv('iris.csv')\n",
    "num_classes = len(dataset.species.unique())\n",
    "print('Classes:', dataset.species.unique())\n",
    "num_features = len(dataset.columns) - 1\n",
    "print('num_features:', num_features)\n",
    "latent_size = 2\n",
    "num_hidden = 50"
   ]
  },
  {
   "cell_type": "code",
   "execution_count": 2,
   "metadata": {},
   "outputs": [
    {
     "data": {
      "text/html": [
       "<div>\n",
       "<style scoped>\n",
       "    .dataframe tbody tr th:only-of-type {\n",
       "        vertical-align: middle;\n",
       "    }\n",
       "\n",
       "    .dataframe tbody tr th {\n",
       "        vertical-align: top;\n",
       "    }\n",
       "\n",
       "    .dataframe thead th {\n",
       "        text-align: right;\n",
       "    }\n",
       "</style>\n",
       "<table border=\"1\" class=\"dataframe\">\n",
       "  <thead>\n",
       "    <tr style=\"text-align: right;\">\n",
       "      <th></th>\n",
       "      <th>sepal_length</th>\n",
       "      <th>sepal_width</th>\n",
       "      <th>petal_length</th>\n",
       "      <th>petal_width</th>\n",
       "      <th>species</th>\n",
       "    </tr>\n",
       "  </thead>\n",
       "  <tbody>\n",
       "    <tr>\n",
       "      <th>0</th>\n",
       "      <td>5.1</td>\n",
       "      <td>3.5</td>\n",
       "      <td>1.4</td>\n",
       "      <td>0.2</td>\n",
       "      <td>Iris-setosa</td>\n",
       "    </tr>\n",
       "    <tr>\n",
       "      <th>1</th>\n",
       "      <td>4.9</td>\n",
       "      <td>3.0</td>\n",
       "      <td>1.4</td>\n",
       "      <td>0.2</td>\n",
       "      <td>Iris-setosa</td>\n",
       "    </tr>\n",
       "    <tr>\n",
       "      <th>2</th>\n",
       "      <td>4.7</td>\n",
       "      <td>3.2</td>\n",
       "      <td>1.3</td>\n",
       "      <td>0.2</td>\n",
       "      <td>Iris-setosa</td>\n",
       "    </tr>\n",
       "    <tr>\n",
       "      <th>3</th>\n",
       "      <td>4.6</td>\n",
       "      <td>3.1</td>\n",
       "      <td>1.5</td>\n",
       "      <td>0.2</td>\n",
       "      <td>Iris-setosa</td>\n",
       "    </tr>\n",
       "    <tr>\n",
       "      <th>4</th>\n",
       "      <td>5.0</td>\n",
       "      <td>3.6</td>\n",
       "      <td>1.4</td>\n",
       "      <td>0.2</td>\n",
       "      <td>Iris-setosa</td>\n",
       "    </tr>\n",
       "  </tbody>\n",
       "</table>\n",
       "</div>"
      ],
      "text/plain": [
       "   sepal_length  sepal_width  petal_length  petal_width      species\n",
       "0           5.1          3.5           1.4          0.2  Iris-setosa\n",
       "1           4.9          3.0           1.4          0.2  Iris-setosa\n",
       "2           4.7          3.2           1.3          0.2  Iris-setosa\n",
       "3           4.6          3.1           1.5          0.2  Iris-setosa\n",
       "4           5.0          3.6           1.4          0.2  Iris-setosa"
      ]
     },
     "execution_count": 2,
     "metadata": {},
     "output_type": "execute_result"
    }
   ],
   "source": [
    "dataset.head()"
   ]
  },
  {
   "cell_type": "code",
   "execution_count": 3,
   "metadata": {},
   "outputs": [
    {
     "data": {
      "text/plain": [
       "<matplotlib.axes._subplots.AxesSubplot at 0x1a26a09898>"
      ]
     },
     "execution_count": 3,
     "metadata": {},
     "output_type": "execute_result"
    },
    {
     "data": {
      "image/png": "[encoded data removed]",
      "text/plain": [
       "<Figure size 360x216 with 1 Axes>"
      ]
     },
     "metadata": {
      "needs_background": "light"
     },
     "output_type": "display_data"
    }
   ],
   "source": [
    "plt.figure(figsize = (5, 3)) \n",
    "dataset[[\"sepal_length\", \"sepal_width\", \"petal_length\", \"petal_width\"]].boxplot()"
   ]
  },
  {
   "cell_type": "markdown",
   "metadata": {},
   "source": [
    "#### Transform Species to a number"
   ]
  },
  {
   "cell_type": "code",
   "execution_count": 4,
   "metadata": {},
   "outputs": [
    {
     "data": {
      "image/png": "[encoded data removed]",
      "text/plain": [
       "<Figure size 288x216 with 1 Axes>"
      ]
     },
     "metadata": {
      "needs_background": "light"
     },
     "output_type": "display_data"
    }
   ],
   "source": [
    "# transform species to numerics\n",
    "dataset.loc[dataset.species=='Iris-setosa', 'species'] = 0\n",
    "dataset.loc[dataset.species=='Iris-versicolor', 'species'] = 1\n",
    "dataset.loc[dataset.species=='Iris-virginica', 'species'] = 2\n",
    "\n",
    "# Display classes histogram\n",
    "plt.figure(figsize = (4, 3)) \n",
    "x = dataset[\"species\"] \n",
    "plt.hist(x, bins = 20, color = \"green\");\n",
    "plt.title(\"Classes\");\n",
    "plt.ylabel(\"Count\"); "
   ]
  },
  {
   "cell_type": "markdown",
   "metadata": {},
   "source": [
    "#### Split Train/Test"
   ]
  },
  {
   "cell_type": "code",
   "execution_count": 5,
   "metadata": {},
   "outputs": [],
   "source": [
    "train_X, test_X, train_y, test_y = train_test_split(dataset[dataset.columns[0:4]].values,\n",
    "                                                    dataset.species.values, test_size=0.3);\n",
    "\n",
    "# wrap up with Variable in pytorch\n",
    "train_X = torch.Tensor(train_X).float()\n",
    "test_X = torch.Tensor(test_X).float()\n",
    "train_y = torch.Tensor(train_y).long()\n",
    "test_y = torch.Tensor(test_y).long()"
   ]
  },
  {
   "cell_type": "markdown",
   "metadata": {},
   "source": [
    "#### Define a Neural Network"
   ]
  },
  {
   "cell_type": "code",
   "execution_count": 6,
   "metadata": {},
   "outputs": [],
   "source": [
    "class AutoEncoder(nn.Module):\n",
    "    # define nn\n",
    "    def __init__(self, num_features, latent_size, num_hidden=100):\n",
    "        super(AutoEncoder, self).__init__()\n",
    "        self.fc1 = nn.Linear(num_features, num_hidden)\n",
    "        self.fc2 = nn.Linear(num_hidden, latent_size)\n",
    "        self.fc3 = nn.Linear(latent_size, num_features)        \n",
    "\n",
    "    def forward(self, X):\n",
    "        X = F.relu(self.fc1(X))\n",
    "        latent = self.fc2(X)\n",
    "        X_reconstruct = self.fc3(latent)        \n",
    "\n",
    "        return X_reconstruct"
   ]
  },
  {
   "cell_type": "markdown",
   "metadata": {},
   "source": [
    "#### Initialize Neural Network, Optmizer and Loss"
   ]
  },
  {
   "cell_type": "code",
   "execution_count": 37,
   "metadata": {},
   "outputs": [],
   "source": [
    "net = AutoEncoder(num_features, latent_size, num_hidden)\n",
    "criterion = nn.MSELoss()\n",
    "optimizer = torch.optim.Adam(net.parameters(), lr=0.01)"
   ]
  },
  {
   "cell_type": "markdown",
   "metadata": {},
   "source": [
    "#### Train"
   ]
  },
  {
   "cell_type": "code",
   "execution_count": 44,
   "metadata": {},
   "outputs": [
    {
     "name": "stdout",
     "output_type": "stream",
     "text": [
      "number of epoch 0 loss 0.03575863689184189\n",
      "number of epoch 500 loss 0.023801546543836594\n",
      "number of epoch 1000 loss 0.023769229650497437\n",
      "number of epoch 1500 loss 0.023773198947310448\n"
     ]
    }
   ],
   "source": [
    "for epoch in range(2000):\n",
    "    optimizer.zero_grad()\n",
    "    train_X_mod = train_X.clone()\n",
    "    #train_X_mod[:,3] = 0\n",
    "    X_reconstruct = net(train_X_mod)    \n",
    "    loss = criterion(X_reconstruct, train_X)\n",
    "    loss.backward()\n",
    "    optimizer.step()\n",
    "    \n",
    "    if epoch % 500 == 0:\n",
    "        print ('number of epoch', epoch, 'loss', loss.item())\n",
    "\n",
    "with torch.no_grad():\n",
    "    test_X_rec = net(test_X)"
   ]
  },
  {
   "cell_type": "code",
   "execution_count": 9,
   "metadata": {},
   "outputs": [],
   "source": [
    "test_X_rec_np = test_X_rec.numpy()\n",
    "test_X_np = test_X.numpy()\n",
    "\n",
    "test_orig = pd.DataFrame({'sepal_length': test_X_np[:, 0], \n",
    "                          'sepal_width': test_X_np[:, 1], \n",
    "                          'petal_length': test_X_np[:, 2], \n",
    "                          'petal_width': test_X_np[:, 3]})\n",
    "\n",
    "test_recons = pd.DataFrame({'sepal_length': test_X_rec_np[:, 0], \n",
    "                          'sepal_width': test_X_rec_np[:, 1], \n",
    "                          'petal_length': test_X_rec_np[:, 2], \n",
    "                          'petal_width': test_X_rec_np[:, 3]})"
   ]
  },
  {
   "cell_type": "code",
   "execution_count": 10,
   "metadata": {},
   "outputs": [
    {
     "data": {
      "image/png": "[encoded data removed]",
      "text/plain": [
       "<Figure size 360x216 with 1 Axes>"
      ]
     },
     "metadata": {
      "needs_background": "light"
     },
     "output_type": "display_data"
    },
    {
     "data": {
      "image/png": "[encoded data removed]",
      "text/plain": [
       "<Figure size 360x216 with 1 Axes>"
      ]
     },
     "metadata": {
      "needs_background": "light"
     },
     "output_type": "display_data"
    }
   ],
   "source": [
    "plt.figure(figsize = (5, 3)) \n",
    "test_orig[[\"sepal_length\", \"sepal_width\", \"petal_length\", \"petal_width\"]].boxplot()\n",
    "plt.title('Original Features')\n",
    "plt.show()\n",
    "\n",
    "plt.figure(figsize = (5, 3)) \n",
    "test_recons[[\"sepal_length\", \"sepal_width\", \"petal_length\", \"petal_width\"]].boxplot()\n",
    "plt.title('Reconstructed Features')\n",
    "plt.show()"
   ]
  },
  {
   "cell_type": "markdown",
   "metadata": {},
   "source": [
    "#### Eliminate one Feature and check Errors"
   ]
  },
  {
   "cell_type": "code",
   "execution_count": 58,
   "metadata": {},
   "outputs": [
    {
     "name": "stdout",
     "output_type": "stream",
     "text": [
      "Loss: tensor(0.0841)\n"
     ]
    },
    {
     "data": {
      "image/png": "[encoded data removed]",
      "text/plain": [
       "<Figure size 360x216 with 1 Axes>"
      ]
     },
     "metadata": {
      "needs_background": "light"
     },
     "output_type": "display_data"
    }
   ],
   "source": [
    "test_X_0 = test_X.clone()\n",
    "test_X_0[:,3] = 0\n",
    "\n",
    "with torch.no_grad():\n",
    "    test_X_rec_0 = net(test_X_0)\n",
    "    loss = criterion(test_X_rec_0, test_X)\n",
    "    print('Loss:', loss)\n",
    "test_recons = pd.DataFrame({'sepal_length': test_X_rec_0[:, 0], \n",
    "                          'sepal_width': test_X_rec_0[:, 1], \n",
    "                          'petal_length': test_X_rec_0[:, 2], \n",
    "                          'petal_width': test_X_rec_0[:, 3]})\n",
    "plt.figure(figsize = (5, 3)) \n",
    "test_recons[[\"sepal_length\", \"sepal_width\", \"petal_length\", \"petal_width\"]].boxplot()\n",
    "plt.title('Reconstructed Features')\n",
    "plt.show()"
   ]
  }
 ],
 "metadata": {
  "kernelspec": {
   "display_name": "Python 3",
   "language": "python",
   "name": "python3"
  },
  "language_info": {
   "codemirror_mode": {
    "name": "ipython",
    "version": 3
   },
   "file_extension": ".py",
   "mimetype": "text/x-python",
   "name": "python",
   "nbconvert_exporter": "python",
   "pygments_lexer": "ipython3",
   "version": "3.6.8"
  }
 },
 "nbformat": 4,
 "nbformat_minor": 2
}
