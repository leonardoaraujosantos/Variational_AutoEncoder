{
 "cells": [
  {
   "cell_type": "markdown",
   "metadata": {},
   "source": [
    "# Iris AutoEncoder with Pytorch\n",
    "On this tutorial we will create a simple AutoEncoder in Pytorch with the Iris Dataset.\n",
    "\n",
    "#### References\n",
    "* [Iris Dataset](https://en.wikipedia.org/wiki/Iris_flower_data_set)\n",
    "* [Feature Importance](https://chrisalbon.com/machine_learning/trees_and_forests/feature_importance/)\n",
    "* [Autoencoders for feature selection](https://arxiv.org/pdf/1710.08310.pdf)\n",
    "* [Concrete Autoencoders for Differentiable Feature Selection and Reconstruction](https://arxiv.org/pdf/1901.09346.pdf)\n",
    "* https://github.com/mfbalin/Concrete-Autoencoders\n",
    "* https://towardsdatascience.com/pca-vs-autoencoders-1ba08362f450"
   ]
  },
  {
   "cell_type": "code",
   "execution_count": 1,
   "metadata": {},
   "outputs": [
    {
     "name": "stdout",
     "output_type": "stream",
     "text": [
      "Classes: ['Iris-setosa' 'Iris-versicolor' 'Iris-virginica']\n",
      "num_features: 4\n"
     ]
    }
   ],
   "source": [
    "import numpy as np\n",
    "import matplotlib.pyplot as plt\n",
    "import pandas as pd\n",
    "from sklearn.model_selection import train_test_split\n",
    "\n",
    "import torch\n",
    "import torch.nn as nn\n",
    "import torch.nn.functional as F\n",
    "\n",
    "# load IRIS dataset\n",
    "dataset = pd.read_csv('iris.csv')\n",
    "num_classes = len(dataset.species.unique())\n",
    "print('Classes:', dataset.species.unique())\n",
    "num_features = len(dataset.columns) - 1\n",
    "print('num_features:', num_features)\n",
    "latent_size = 2\n",
    "num_hidden = 50"
   ]
  },
  {
   "cell_type": "code",
   "execution_count": 2,
   "metadata": {},
   "outputs": [
    {
     "data": {
      "text/html": [
       "<div>\n",
       "<style scoped>\n",
       "    .dataframe tbody tr th:only-of-type {\n",
       "        vertical-align: middle;\n",
       "    }\n",
       "\n",
       "    .dataframe tbody tr th {\n",
       "        vertical-align: top;\n",
       "    }\n",
       "\n",
       "    .dataframe thead th {\n",
       "        text-align: right;\n",
       "    }\n",
       "</style>\n",
       "<table border=\"1\" class=\"dataframe\">\n",
       "  <thead>\n",
       "    <tr style=\"text-align: right;\">\n",
       "      <th></th>\n",
       "      <th>sepal_length</th>\n",
       "      <th>sepal_width</th>\n",
       "      <th>petal_length</th>\n",
       "      <th>petal_width</th>\n",
       "      <th>species</th>\n",
       "    </tr>\n",
       "  </thead>\n",
       "  <tbody>\n",
       "    <tr>\n",
       "      <th>0</th>\n",
       "      <td>5.1</td>\n",
       "      <td>3.5</td>\n",
       "      <td>1.4</td>\n",
       "      <td>0.2</td>\n",
       "      <td>Iris-setosa</td>\n",
       "    </tr>\n",
       "    <tr>\n",
       "      <th>1</th>\n",
       "      <td>4.9</td>\n",
       "      <td>3.0</td>\n",
       "      <td>1.4</td>\n",
       "      <td>0.2</td>\n",
       "      <td>Iris-setosa</td>\n",
       "    </tr>\n",
       "    <tr>\n",
       "      <th>2</th>\n",
       "      <td>4.7</td>\n",
       "      <td>3.2</td>\n",
       "      <td>1.3</td>\n",
       "      <td>0.2</td>\n",
       "      <td>Iris-setosa</td>\n",
       "    </tr>\n",
       "    <tr>\n",
       "      <th>3</th>\n",
       "      <td>4.6</td>\n",
       "      <td>3.1</td>\n",
       "      <td>1.5</td>\n",
       "      <td>0.2</td>\n",
       "      <td>Iris-setosa</td>\n",
       "    </tr>\n",
       "    <tr>\n",
       "      <th>4</th>\n",
       "      <td>5.0</td>\n",
       "      <td>3.6</td>\n",
       "      <td>1.4</td>\n",
       "      <td>0.2</td>\n",
       "      <td>Iris-setosa</td>\n",
       "    </tr>\n",
       "  </tbody>\n",
       "</table>\n",
       "</div>"
      ],
      "text/plain": [
       "   sepal_length  sepal_width  petal_length  petal_width      species\n",
       "0           5.1          3.5           1.4          0.2  Iris-setosa\n",
       "1           4.9          3.0           1.4          0.2  Iris-setosa\n",
       "2           4.7          3.2           1.3          0.2  Iris-setosa\n",
       "3           4.6          3.1           1.5          0.2  Iris-setosa\n",
       "4           5.0          3.6           1.4          0.2  Iris-setosa"
      ]
     },
     "execution_count": 2,
     "metadata": {},
     "output_type": "execute_result"
    }
   ],
   "source": [
    "dataset.head()"
   ]
  },
  {
   "cell_type": "code",
   "execution_count": 3,
   "metadata": {},
   "outputs": [
    {
     "data": {
      "text/plain": [
       "<matplotlib.axes._subplots.AxesSubplot at 0x7faf484d5b38>"
      ]
     },
     "execution_count": 3,
     "metadata": {},
     "output_type": "execute_result"
    },
    {
     "data": {
      "image/png": "[encoded data removed]",
      "text/plain": [
       "<Figure size 360x216 with 1 Axes>"
      ]
     },
     "metadata": {
      "needs_background": "light"
     },
     "output_type": "display_data"
    }
   ],
   "source": [
    "plt.figure(figsize = (5, 3)) \n",
    "dataset[[\"sepal_length\", \"sepal_width\", \"petal_length\", \"petal_width\"]].boxplot()"
   ]
  },
  {
   "cell_type": "markdown",
   "metadata": {},
   "source": [
    "#### Transform Species to a number"
   ]
  },
  {
   "cell_type": "code",
   "execution_count": 4,
   "metadata": {},
   "outputs": [
    {
     "data": {
      "image/png": "[encoded data removed]",
      "text/plain": [
       "<Figure size 288x216 with 1 Axes>"
      ]
     },
     "metadata": {
      "needs_background": "light"
     },
     "output_type": "display_data"
    }
   ],
   "source": [
    "# transform species to numerics\n",
    "dataset.loc[dataset.species=='Iris-setosa', 'species'] = 0\n",
    "dataset.loc[dataset.species=='Iris-versicolor', 'species'] = 1\n",
    "dataset.loc[dataset.species=='Iris-virginica', 'species'] = 2\n",
    "\n",
    "# Display classes histogram\n",
    "plt.figure(figsize = (4, 3)) \n",
    "x = dataset[\"species\"] \n",
    "plt.hist(x, bins = 20, color = \"green\");\n",
    "plt.title(\"Classes\");\n",
    "plt.ylabel(\"Count\"); "
   ]
  },
  {
   "cell_type": "markdown",
   "metadata": {},
   "source": [
    "#### Split Train/Test"
   ]
  },
  {
   "cell_type": "code",
   "execution_count": 5,
   "metadata": {},
   "outputs": [],
   "source": [
    "train_X, test_X, train_y, test_y = train_test_split(dataset[dataset.columns[0:4]].values,\n",
    "                                                    dataset.species.values, test_size=0.3);\n",
    "\n",
    "# wrap up with Variable in pytorch\n",
    "train_X = torch.Tensor(train_X).float()\n",
    "test_X = torch.Tensor(test_X).float()\n",
    "train_y = torch.Tensor(train_y).long()\n",
    "test_y = torch.Tensor(test_y).long()"
   ]
  },
  {
   "cell_type": "markdown",
   "metadata": {},
   "source": [
    "#### Define a Neural Network"
   ]
  },
  {
   "cell_type": "code",
   "execution_count": 6,
   "metadata": {},
   "outputs": [],
   "source": [
    "class AutoEncoder(nn.Module):\n",
    "    # define nn\n",
    "    def __init__(self, num_features, latent_size, num_hidden=100):\n",
    "        super(AutoEncoder, self).__init__()\n",
    "        self.fc1 = nn.Linear(num_features, num_hidden)\n",
    "        self.fc2 = nn.Linear(num_hidden, latent_size)\n",
    "        self.fc3 = nn.Linear(latent_size, num_features)        \n",
    "\n",
    "    def forward(self, X):\n",
    "        X = F.relu(self.fc1(X))\n",
    "        latent = self.fc2(X)\n",
    "        X_reconstruct = self.fc3(latent)        \n",
    "\n",
    "        return X_reconstruct"
   ]
  },
  {
   "cell_type": "markdown",
   "metadata": {},
   "source": [
    "#### Initialize Neural Network, Optmizer and Loss"
   ]
  },
  {
   "cell_type": "code",
   "execution_count": 7,
   "metadata": {},
   "outputs": [],
   "source": [
    "net = AutoEncoder(num_features, latent_size, num_hidden)\n",
    "criterion = nn.MSELoss()\n",
    "optimizer = torch.optim.Adam(net.parameters(), lr=0.01)"
   ]
  },
  {
   "cell_type": "markdown",
   "metadata": {},
   "source": [
    "#### Train"
   ]
  },
  {
   "cell_type": "code",
   "execution_count": 8,
   "metadata": {},
   "outputs": [
    {
     "name": "stdout",
     "output_type": "stream",
     "text": [
      "number of epoch 0 loss 25.08379364013672\n",
      "number of epoch 500 loss 0.02738860622048378\n",
      "number of epoch 1000 loss 0.02646436169743538\n",
      "number of epoch 1500 loss 0.026228517293930054\n"
     ]
    }
   ],
   "source": [
    "for epoch in range(2000):\n",
    "    optimizer.zero_grad()\n",
    "    X_reconstruct = net(train_X)    \n",
    "    loss = criterion(X_reconstruct, train_X)\n",
    "    loss.backward()\n",
    "    optimizer.step()\n",
    "    \n",
    "    if epoch % 500 == 0:\n",
    "        print ('number of epoch', epoch, 'loss', loss.item())\n",
    "\n",
    "with torch.no_grad():\n",
    "    test_X_rec = net(test_X)"
   ]
  },
  {
   "cell_type": "code",
   "execution_count": 9,
   "metadata": {},
   "outputs": [],
   "source": [
    "test_X_rec_np = test_X_rec.numpy()\n",
    "test_X_np = test_X.numpy()\n",
    "\n",
    "test_orig = pd.DataFrame({'sepal_length': test_X_np[:, 0], \n",
    "                          'sepal_width': test_X_np[:, 1], \n",
    "                          'petal_length': test_X_np[:, 2], \n",
    "                          'petal_width': test_X_np[:, 3]})\n",
    "\n",
    "test_recons = pd.DataFrame({'sepal_length': test_X_rec_np[:, 0], \n",
    "                          'sepal_width': test_X_rec_np[:, 1], \n",
    "                          'petal_length': test_X_rec_np[:, 2], \n",
    "                          'petal_width': test_X_rec_np[:, 3]})"
   ]
  },
  {
   "cell_type": "code",
   "execution_count": 10,
   "metadata": {},
   "outputs": [
    {
     "data": {
      "image/png": "[encoded data removed]",
      "text/plain": [
       "<Figure size 360x216 with 1 Axes>"
      ]
     },
     "metadata": {
      "needs_background": "light"
     },
     "output_type": "display_data"
    },
    {
     "data": {
      "image/png": "[encoded data removed]",
      "text/plain": [
       "<Figure size 360x216 with 1 Axes>"
      ]
     },
     "metadata": {
      "needs_background": "light"
     },
     "output_type": "display_data"
    }
   ],
   "source": [
    "plt.figure(figsize = (5, 3)) \n",
    "test_orig[[\"sepal_length\", \"sepal_width\", \"petal_length\", \"petal_width\"]].boxplot()\n",
    "plt.title('Original Features')\n",
    "plt.show()\n",
    "\n",
    "plt.figure(figsize = (5, 3)) \n",
    "test_recons[[\"sepal_length\", \"sepal_width\", \"petal_length\", \"petal_width\"]].boxplot()\n",
    "plt.title('Reconstructed Features')\n",
    "plt.show()"
   ]
  },
  {
   "cell_type": "markdown",
   "metadata": {},
   "source": [
    "#### Display Summary of learned features"
   ]
  },
  {
   "cell_type": "code",
   "execution_count": 11,
   "metadata": {},
   "outputs": [
    {
     "name": "stdout",
     "output_type": "stream",
     "text": [
      "Name: fc1.weight Shape: torch.Size([50, 4]) \n",
      "\tData: tensor([0.2374, 0.2651, 0.2528, 0.2467])\n",
      "Name: fc1.bias Shape: torch.Size([50]) \n",
      "\tData: tensor(0.2646)\n",
      "Name: fc2.weight Shape: torch.Size([2, 50]) \n",
      "\tData: tensor([0.0266, 0.0530, 0.0452, 0.1187, 0.0774, 0.0614, 0.1497, 0.2121, 0.0275,\n",
      "        0.0612, 0.0736, 0.0995, 0.0955, 0.0145, 0.1016, 0.1216, 0.0914, 0.1293,\n",
      "        0.0366, 0.0256, 0.0695, 0.0610, 0.0305, 0.0437, 0.1382, 0.0967, 0.4970,\n",
      "        0.0377, 0.0474, 0.0577, 0.1106, 0.0968, 0.0850, 0.0982, 0.0216, 0.1453,\n",
      "        0.0756, 0.1032, 0.1538, 0.0633, 0.2501, 0.0690, 0.0546, 0.0861, 0.1862,\n",
      "        0.0734, 0.1750, 0.1068, 0.1130, 0.0677])\n",
      "Name: fc2.bias Shape: torch.Size([2]) \n",
      "\tData: tensor(0.0316)\n",
      "Name: fc3.weight Shape: torch.Size([4, 2]) \n",
      "\tData: tensor([0.4663, 0.3434])\n",
      "Name: fc3.bias Shape: torch.Size([4]) \n",
      "\tData: tensor(0.2337)\n"
     ]
    }
   ],
   "source": [
    "for name, param in net.named_parameters():\n",
    "    if param.requires_grad:\n",
    "        # Print feature name,shape,mean\n",
    "        print('Name:', name, 'Shape:', param.shape, '\\n\\tData:',param.data.abs().mean(dim=0))"
   ]
  }
 ],
 "metadata": {
  "kernelspec": {
   "display_name": "Python 3",
   "language": "python",
   "name": "python3"
  },
  "language_info": {
   "codemirror_mode": {
    "name": "ipython",
    "version": 3
   },
   "file_extension": ".py",
   "mimetype": "text/x-python",
   "name": "python",
   "nbconvert_exporter": "python",
   "pygments_lexer": "ipython3",
   "version": "3.7.1"
  }
 },
 "nbformat": 4,
 "nbformat_minor": 2
}
