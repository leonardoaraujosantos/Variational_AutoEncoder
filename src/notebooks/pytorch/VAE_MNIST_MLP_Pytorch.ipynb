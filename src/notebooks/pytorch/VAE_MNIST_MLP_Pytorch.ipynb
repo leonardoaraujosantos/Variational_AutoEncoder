{
 "cells": [
  {
   "cell_type": "markdown",
   "metadata": {},
   "source": [
    "# Variational AutoEncoder (MLP) Pytorch\n",
    "Train a variational autoencoder with MNIST dataset\n",
    "\n",
    "#### References:\n",
    "* http://kvfrans.com/variational-autoencoders-explained/\n",
    "* https://github.com/pytorch/examples/blob/master/mnist/main.py\n",
    "* https://github.com/pytorch/examples/blob/master/vae/main.py\n",
    "* http://wiseodd.github.io/techblog/2017/01/24/vae-pytorch/"
   ]
  },
  {
   "cell_type": "code",
   "execution_count": 1,
   "metadata": {},
   "outputs": [
    {
     "name": "stdout",
     "output_type": "stream",
     "text": [
      "PyTorch Version:  1.0.0\n",
      "Device: cpu\n",
      "Number of available GPUs: 0\n"
     ]
    }
   ],
   "source": [
    "import os\n",
    "import torch\n",
    "import torch.utils.data\n",
    "from torch import nn, optim\n",
    "from torch.nn import functional as F\n",
    "from torchvision import datasets, transforms\n",
    "from torchvision.utils import save_image\n",
    "batch_size = 128\n",
    "ZDIMS = 20\n",
    "epochs = 10\n",
    "print(\"PyTorch Version: \",torch.__version__)\n",
    "\n",
    "device = torch.device(\"cuda:0\" if torch.cuda.is_available() else \"cpu\")\n",
    "print('Device:', device)\n",
    "num_gpu = torch.cuda.device_count()\n",
    "print('Number of available GPUs:', num_gpu)\n",
    "\n",
    "log_interval = 10"
   ]
  },
  {
   "cell_type": "markdown",
   "metadata": {},
   "source": [
    "#### Download Data"
   ]
  },
  {
   "cell_type": "code",
   "execution_count": 2,
   "metadata": {},
   "outputs": [],
   "source": [
    "# Download or load downloaded MNIST dataset\n",
    "# shuffle data at every epoch\n",
    "train_loader = torch.utils.data.DataLoader(datasets.MNIST('data', \n",
    "    train=True, download=True,transform=transforms.ToTensor()),\n",
    "    batch_size=batch_size, shuffle=True)\n",
    "\n",
    "# Same for test data\n",
    "test_loader = torch.utils.data.DataLoader(\n",
    "    datasets.MNIST('data', train=False, transform=transforms.ToTensor()),\n",
    "    batch_size=batch_size, shuffle=False)"
   ]
  },
  {
   "cell_type": "markdown",
   "metadata": {},
   "source": [
    "#### Define Model"
   ]
  },
  {
   "cell_type": "code",
   "execution_count": 3,
   "metadata": {},
   "outputs": [],
   "source": [
    "class VAE(nn.Module):\n",
    "    def __init__(self):\n",
    "        super(VAE, self).__init__()\n",
    "\n",
    "        self.fc1 = nn.Linear(784, 400)\n",
    "        self.fc21 = nn.Linear(400, ZDIMS)\n",
    "        self.fc22 = nn.Linear(400, ZDIMS)\n",
    "        self.fc3 = nn.Linear(ZDIMS, 400)\n",
    "        self.fc4 = nn.Linear(400, 784)\n",
    "\n",
    "    def encode(self, x):\n",
    "        h1 = F.relu(self.fc1(x))\n",
    "        return self.fc21(h1), self.fc22(h1)\n",
    "\n",
    "    def reparameterize(self, mu, logvar):\n",
    "        std = torch.exp(0.5*logvar)\n",
    "        eps = torch.randn_like(std)\n",
    "        return mu + eps*std\n",
    "\n",
    "    def decode(self, z):\n",
    "        h3 = F.relu(self.fc3(z))\n",
    "        return torch.sigmoid(self.fc4(h3))\n",
    "\n",
    "    def forward(self, x):\n",
    "        mu, logvar = self.encode(x.view(-1, 784))\n",
    "        z = self.reparameterize(mu, logvar)\n",
    "        return self.decode(z), mu, logvar"
   ]
  },
  {
   "cell_type": "code",
   "execution_count": 4,
   "metadata": {},
   "outputs": [],
   "source": [
    "model = VAE().to(device)\n",
    "optimizer = optim.Adam(model.parameters(), lr=1e-3)"
   ]
  },
  {
   "cell_type": "markdown",
   "metadata": {},
   "source": [
    "#### Define Loss Function"
   ]
  },
  {
   "cell_type": "code",
   "execution_count": null,
   "metadata": {},
   "outputs": [],
   "source": [
    "# Reconstruction + KL divergence losses summed over all elements and batch\n",
    "def loss_function(recon_x, x, mu, logvar):\n",
    "    BCE = F.binary_cross_entropy(recon_x, x.view(-1, 784), reduction='sum')\n",
    "\n",
    "    # see Appendix B from VAE paper:\n",
    "    # Kingma and Welling. Auto-Encoding Variational Bayes. ICLR, 2014\n",
    "    # https://arxiv.org/abs/1312.6114\n",
    "    # 0.5 * sum(1 + log(sigma^2) - mu^2 - sigma^2)\n",
    "    KLD = -0.5 * torch.sum(1 + logvar - mu.pow(2) - logvar.exp())\n",
    "\n",
    "    return BCE + KLD"
   ]
  },
  {
   "cell_type": "markdown",
   "metadata": {},
   "source": [
    "#### Define Train/Test Functions"
   ]
  },
  {
   "cell_type": "code",
   "execution_count": null,
   "metadata": {},
   "outputs": [],
   "source": [
    "def train(epoch):\n",
    "    model.train()\n",
    "    train_loss = 0\n",
    "    for batch_idx, (data, _) in enumerate(train_loader):\n",
    "        data = data.to(device)\n",
    "        optimizer.zero_grad()\n",
    "        recon_batch, mu, logvar = model(data)\n",
    "        loss = loss_function(recon_batch, data, mu, logvar)\n",
    "        loss.backward()\n",
    "        train_loss += loss.item()\n",
    "        optimizer.step()\n",
    "        if batch_idx % log_interval == 0:\n",
    "            print('Train Epoch: {} [{}/{} ({:.0f}%)]\\tLoss: {:.6f}'.format(\n",
    "                epoch, batch_idx * len(data), len(train_loader.dataset),\n",
    "                100. * batch_idx / len(train_loader),\n",
    "                loss.item() / len(data)))\n",
    "\n",
    "    print('====> Epoch: {} Average loss: {:.4f}'.format(\n",
    "          epoch, train_loss / len(train_loader.dataset)))\n",
    "\n",
    "\n",
    "def test(epoch):\n",
    "    model.eval()\n",
    "    test_loss = 0\n",
    "    with torch.no_grad():\n",
    "        for i, (data, _) in enumerate(test_loader):\n",
    "            data = data.to(device)\n",
    "            recon_batch, mu, logvar = model(data)\n",
    "            test_loss += loss_function(recon_batch, data, mu, logvar).item()\n",
    "            if i == 0:\n",
    "                n = min(data.size(0), 8)\n",
    "                comparison = torch.cat([data[:n],\n",
    "                                      recon_batch.view(batch_size, 1, 28, 28)[:n]])\n",
    "                save_image(comparison.cpu(),\n",
    "                         'results/reconstruction_' + str(epoch) + '.png', nrow=n)\n",
    "\n",
    "    test_loss /= len(test_loader.dataset)\n",
    "    print('====> Test set loss: {:.4f}'.format(test_loss))"
   ]
  },
  {
   "cell_type": "markdown",
   "metadata": {},
   "source": [
    "#### Train/Test"
   ]
  },
  {
   "cell_type": "code",
   "execution_count": null,
   "metadata": {},
   "outputs": [
    {
     "name": "stdout",
     "output_type": "stream",
     "text": [
      "Train Epoch: 1 [0/60000 (0%)]\tLoss: 551.523376\n",
      "Train Epoch: 1 [1280/60000 (2%)]\tLoss: 295.378601\n",
      "Train Epoch: 1 [2560/60000 (4%)]\tLoss: 237.205261\n",
      "Train Epoch: 1 [3840/60000 (6%)]\tLoss: 223.756790\n",
      "Train Epoch: 1 [5120/60000 (9%)]\tLoss: 216.544983\n",
      "Train Epoch: 1 [6400/60000 (11%)]\tLoss: 217.497772\n",
      "Train Epoch: 1 [7680/60000 (13%)]\tLoss: 203.705566\n",
      "Train Epoch: 1 [8960/60000 (15%)]\tLoss: 201.407288\n",
      "Train Epoch: 1 [10240/60000 (17%)]\tLoss: 201.980637\n",
      "Train Epoch: 1 [11520/60000 (19%)]\tLoss: 183.955200\n",
      "Train Epoch: 1 [12800/60000 (21%)]\tLoss: 183.457275\n",
      "Train Epoch: 1 [14080/60000 (23%)]\tLoss: 181.279617\n",
      "Train Epoch: 1 [15360/60000 (26%)]\tLoss: 171.207977\n",
      "Train Epoch: 1 [16640/60000 (28%)]\tLoss: 167.457397\n",
      "Train Epoch: 1 [17920/60000 (30%)]\tLoss: 163.266830\n",
      "Train Epoch: 1 [19200/60000 (32%)]\tLoss: 165.956360\n",
      "Train Epoch: 1 [20480/60000 (34%)]\tLoss: 161.298340\n",
      "Train Epoch: 1 [21760/60000 (36%)]\tLoss: 156.000656\n",
      "Train Epoch: 1 [23040/60000 (38%)]\tLoss: 162.467682\n",
      "Train Epoch: 1 [24320/60000 (41%)]\tLoss: 155.098755\n",
      "Train Epoch: 1 [25600/60000 (43%)]\tLoss: 158.573547\n",
      "Train Epoch: 1 [26880/60000 (45%)]\tLoss: 151.845016\n",
      "Train Epoch: 1 [28160/60000 (47%)]\tLoss: 151.259705\n",
      "Train Epoch: 1 [29440/60000 (49%)]\tLoss: 149.771484\n",
      "Train Epoch: 1 [30720/60000 (51%)]\tLoss: 145.598923\n",
      "Train Epoch: 1 [32000/60000 (53%)]\tLoss: 149.721954\n",
      "Train Epoch: 1 [33280/60000 (55%)]\tLoss: 142.452942\n",
      "Train Epoch: 1 [34560/60000 (58%)]\tLoss: 147.532288\n",
      "Train Epoch: 1 [35840/60000 (60%)]\tLoss: 146.497604\n",
      "Train Epoch: 1 [37120/60000 (62%)]\tLoss: 145.515289\n",
      "Train Epoch: 1 [38400/60000 (64%)]\tLoss: 136.658722\n",
      "Train Epoch: 1 [39680/60000 (66%)]\tLoss: 135.524551\n",
      "Train Epoch: 1 [40960/60000 (68%)]\tLoss: 138.734558\n",
      "Train Epoch: 1 [42240/60000 (70%)]\tLoss: 139.688171\n",
      "Train Epoch: 1 [43520/60000 (72%)]\tLoss: 134.054504\n",
      "Train Epoch: 1 [44800/60000 (75%)]\tLoss: 128.752029\n",
      "Train Epoch: 1 [46080/60000 (77%)]\tLoss: 136.464951\n",
      "Train Epoch: 1 [47360/60000 (79%)]\tLoss: 133.249435\n",
      "Train Epoch: 1 [48640/60000 (81%)]\tLoss: 132.292953\n",
      "Train Epoch: 1 [49920/60000 (83%)]\tLoss: 129.359039\n",
      "Train Epoch: 1 [51200/60000 (85%)]\tLoss: 128.404678\n",
      "Train Epoch: 1 [52480/60000 (87%)]\tLoss: 132.334335\n",
      "Train Epoch: 1 [53760/60000 (90%)]\tLoss: 131.161636\n",
      "Train Epoch: 1 [55040/60000 (92%)]\tLoss: 124.214348\n",
      "Train Epoch: 1 [56320/60000 (94%)]\tLoss: 126.494278\n",
      "Train Epoch: 1 [57600/60000 (96%)]\tLoss: 136.876648\n",
      "Train Epoch: 1 [58880/60000 (98%)]\tLoss: 131.506042\n",
      "====> Epoch: 1 Average loss: 164.5032\n",
      "====> Test set loss: 127.1016\n",
      "Train Epoch: 2 [0/60000 (0%)]\tLoss: 127.546120\n",
      "Train Epoch: 2 [1280/60000 (2%)]\tLoss: 128.491302\n",
      "Train Epoch: 2 [2560/60000 (4%)]\tLoss: 129.916382\n",
      "Train Epoch: 2 [3840/60000 (6%)]\tLoss: 130.641144\n",
      "Train Epoch: 2 [5120/60000 (9%)]\tLoss: 127.387459\n",
      "Train Epoch: 2 [6400/60000 (11%)]\tLoss: 126.127022\n",
      "Train Epoch: 2 [7680/60000 (13%)]\tLoss: 127.778976\n",
      "Train Epoch: 2 [8960/60000 (15%)]\tLoss: 122.836502\n",
      "Train Epoch: 2 [10240/60000 (17%)]\tLoss: 114.922684\n",
      "Train Epoch: 2 [11520/60000 (19%)]\tLoss: 119.756683\n",
      "Train Epoch: 2 [12800/60000 (21%)]\tLoss: 124.507034\n",
      "Train Epoch: 2 [14080/60000 (23%)]\tLoss: 122.252068\n",
      "Train Epoch: 2 [15360/60000 (26%)]\tLoss: 123.884827\n",
      "Train Epoch: 2 [16640/60000 (28%)]\tLoss: 124.682312\n",
      "Train Epoch: 2 [17920/60000 (30%)]\tLoss: 124.220703\n",
      "Train Epoch: 2 [19200/60000 (32%)]\tLoss: 120.810120\n",
      "Train Epoch: 2 [20480/60000 (34%)]\tLoss: 129.500198\n",
      "Train Epoch: 2 [21760/60000 (36%)]\tLoss: 125.194374\n",
      "Train Epoch: 2 [23040/60000 (38%)]\tLoss: 122.814529\n",
      "Train Epoch: 2 [24320/60000 (41%)]\tLoss: 118.532166\n",
      "Train Epoch: 2 [25600/60000 (43%)]\tLoss: 124.740753\n",
      "Train Epoch: 2 [26880/60000 (45%)]\tLoss: 119.741508\n",
      "Train Epoch: 2 [28160/60000 (47%)]\tLoss: 121.920799\n",
      "Train Epoch: 2 [29440/60000 (49%)]\tLoss: 118.248848\n",
      "Train Epoch: 2 [30720/60000 (51%)]\tLoss: 118.507370\n",
      "Train Epoch: 2 [32000/60000 (53%)]\tLoss: 118.357521\n",
      "Train Epoch: 2 [33280/60000 (55%)]\tLoss: 120.691765\n",
      "Train Epoch: 2 [34560/60000 (58%)]\tLoss: 122.147499\n",
      "Train Epoch: 2 [35840/60000 (60%)]\tLoss: 119.333496\n",
      "Train Epoch: 2 [37120/60000 (62%)]\tLoss: 121.817123\n",
      "Train Epoch: 2 [38400/60000 (64%)]\tLoss: 120.119308\n",
      "Train Epoch: 2 [39680/60000 (66%)]\tLoss: 122.125793\n",
      "Train Epoch: 2 [40960/60000 (68%)]\tLoss: 121.513680\n",
      "Train Epoch: 2 [42240/60000 (70%)]\tLoss: 120.143585\n",
      "Train Epoch: 2 [43520/60000 (72%)]\tLoss: 119.117584\n",
      "Train Epoch: 2 [44800/60000 (75%)]\tLoss: 110.632698\n",
      "Train Epoch: 2 [46080/60000 (77%)]\tLoss: 123.233368\n",
      "Train Epoch: 2 [47360/60000 (79%)]\tLoss: 118.859909\n",
      "Train Epoch: 2 [48640/60000 (81%)]\tLoss: 115.058670\n",
      "Train Epoch: 2 [49920/60000 (83%)]\tLoss: 119.284081\n",
      "Train Epoch: 2 [51200/60000 (85%)]\tLoss: 121.380516\n",
      "Train Epoch: 2 [52480/60000 (87%)]\tLoss: 118.044800\n",
      "Train Epoch: 2 [53760/60000 (90%)]\tLoss: 121.780594\n",
      "Train Epoch: 2 [55040/60000 (92%)]\tLoss: 117.216835\n",
      "Train Epoch: 2 [56320/60000 (94%)]\tLoss: 115.324844\n",
      "Train Epoch: 2 [57600/60000 (96%)]\tLoss: 116.941650\n",
      "Train Epoch: 2 [58880/60000 (98%)]\tLoss: 116.407684\n",
      "====> Epoch: 2 Average loss: 121.4414\n",
      "====> Test set loss: 115.9753\n",
      "Train Epoch: 3 [0/60000 (0%)]\tLoss: 117.681396\n",
      "Train Epoch: 3 [1280/60000 (2%)]\tLoss: 113.931259\n",
      "Train Epoch: 3 [2560/60000 (4%)]\tLoss: 116.395699\n",
      "Train Epoch: 3 [3840/60000 (6%)]\tLoss: 115.792938\n",
      "Train Epoch: 3 [5120/60000 (9%)]\tLoss: 113.504677\n",
      "Train Epoch: 3 [6400/60000 (11%)]\tLoss: 117.154587\n",
      "Train Epoch: 3 [7680/60000 (13%)]\tLoss: 116.225487\n"
     ]
    }
   ],
   "source": [
    "for epoch in range(1, epochs + 1):\n",
    "        train(epoch)\n",
    "        test(epoch)\n",
    "        with torch.no_grad():\n",
    "            sample = torch.randn(64, 20).to(device)\n",
    "            sample = model.decode(sample).cpu()\n",
    "            save_image(sample.view(64, 1, 28, 28),\n",
    "                       'results/sample_' + str(epoch) + '.png')"
   ]
  },
  {
   "cell_type": "code",
   "execution_count": null,
   "metadata": {},
   "outputs": [],
   "source": []
  }
 ],
 "metadata": {
  "kernelspec": {
   "display_name": "Python 3",
   "language": "python",
   "name": "python3"
  },
  "language_info": {
   "codemirror_mode": {
    "name": "ipython",
    "version": 3
   },
   "file_extension": ".py",
   "mimetype": "text/x-python",
   "name": "python",
   "nbconvert_exporter": "python",
   "pygments_lexer": "ipython3",
   "version": "3.6.8"
  }
 },
 "nbformat": 4,
 "nbformat_minor": 2
}
